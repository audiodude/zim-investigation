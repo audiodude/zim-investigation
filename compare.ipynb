{
 "cells": [
  {
   "cell_type": "markdown",
   "metadata": {},
   "source": [
    "This notebook attempts to compare the following ZIM files. Both are full scrapes of the full scrape of Abkhazian Wikipedia.\n",
    "\n",
    "- wikipedia_ab_all_maxi_2024-06.zim, taken with `mwoffliner` 1.13, size: 26588 bytes\n",
    "- wikipedia_ab_all_maxi_2024-07.zim, taken with `mwoffliner` 1.14, size: 36892 bytes\n",
    "\n",
    "We are attempting to reconcile the ~27% increase in size.\n",
    "\n",
    "The file `comparison.tsv`, included with this notebook, contains three columns:\n",
    "\n",
    "1. The content path of the item in the ZIM where it appears, or in both ZIMs\n",
    "2. The size of the content in the June ZIM, if it exists there, NaN/NULL otherwise\n",
    "3. The size of the content in the July ZIM, if it exists there, NaN/NULL otherwise"
   ]
  },
  {
   "cell_type": "code",
   "execution_count": 53,
   "metadata": {},
   "outputs": [
    {
     "name": "stdout",
     "output_type": "stream",
     "text": [
      "Total difference in file system 10304 KB\n"
     ]
    }
   ],
   "source": [
    "print(f'Total difference in file system {36892 - 26588} KB')"
   ]
  },
  {
   "cell_type": "code",
   "execution_count": 55,
   "metadata": {},
   "outputs": [
    {
     "name": "stdout",
     "output_type": "stream",
     "text": [
      "Total rows:  11066\n",
      "Rows in both ZIMs:  10315\n"
     ]
    },
    {
     "data": {
      "text/plain": [
       "count     10315.000000\n",
       "mean      -1598.346389\n",
       "std       10047.443497\n",
       "min      -44852.000000\n",
       "25%        -246.000000\n",
       "50%         199.000000\n",
       "75%        1084.000000\n",
       "max      159898.000000\n",
       "Name: diff, dtype: float64"
      ]
     },
     "execution_count": 55,
     "metadata": {},
     "output_type": "execute_result"
    }
   ],
   "source": [
    "import pandas as pd\n",
    "\n",
    "df = pd.read_csv('comparison.tsv', sep='\\t')\n",
    "print('Total rows: ', df.shape[0])\n",
    "\n",
    "df['diff'] = df['july'] - df['june']\n",
    "in_both = df['diff'][(df['june'] > 0) & (df['july'] > 0)]\n",
    "print('Rows in both ZIMs: ', in_both.shape[0])\n",
    "in_both.describe()"
   ]
  },
  {
   "cell_type": "markdown",
   "metadata": {},
   "source": [
    "We see that on average, items actually got smaller between June and July. This means that the items that got bigger got especially big."
   ]
  },
  {
   "cell_type": "code",
   "execution_count": 57,
   "metadata": {},
   "outputs": [
    {
     "data": {
      "text/plain": [
       "np.float64(-16100.5302734375)"
      ]
     },
     "execution_count": 57,
     "metadata": {},
     "output_type": "execute_result"
    }
   ],
   "source": [
    "df['diff'].sum() / 1024"
   ]
  },
  {
   "cell_type": "markdown",
   "metadata": {},
   "source": [
    "Surprisingly, the difference from June to July is negative! Despite our file sizes, the ZIM in July has *less* data."
   ]
  },
  {
   "cell_type": "code",
   "execution_count": 8,
   "metadata": {},
   "outputs": [
    {
     "data": {
      "text/html": [
       "<div>\n",
       "<style scoped>\n",
       "    .dataframe tbody tr th:only-of-type {\n",
       "        vertical-align: middle;\n",
       "    }\n",
       "\n",
       "    .dataframe tbody tr th {\n",
       "        vertical-align: top;\n",
       "    }\n",
       "\n",
       "    .dataframe thead th {\n",
       "        text-align: right;\n",
       "    }\n",
       "</style>\n",
       "<table border=\"1\" class=\"dataframe\">\n",
       "  <thead>\n",
       "    <tr style=\"text-align: right;\">\n",
       "      <th></th>\n",
       "      <th>path</th>\n",
       "      <th>june</th>\n",
       "      <th>july</th>\n",
       "      <th>diff</th>\n",
       "    </tr>\n",
       "  </thead>\n",
       "  <tbody>\n",
       "    <tr>\n",
       "      <th>9947</th>\n",
       "      <td>I/Lashkendar_temple_ruins.JPG.webp</td>\n",
       "      <td>10952.0</td>\n",
       "      <td>170850.0</td>\n",
       "      <td>159898.0</td>\n",
       "    </tr>\n",
       "    <tr>\n",
       "      <th>10321</th>\n",
       "      <td>I/RR5109-0021R_100-летие_Российского_футбола.gif</td>\n",
       "      <td>21630.0</td>\n",
       "      <td>179841.0</td>\n",
       "      <td>158211.0</td>\n",
       "    </tr>\n",
       "    <tr>\n",
       "      <th>10978</th>\n",
       "      <td>I/Большой_театр_1883.gif</td>\n",
       "      <td>19983.0</td>\n",
       "      <td>174006.0</td>\n",
       "      <td>154023.0</td>\n",
       "    </tr>\n",
       "    <tr>\n",
       "      <th>10227</th>\n",
       "      <td>I/Paliurus_fg01.jpg.webp</td>\n",
       "      <td>25804.0</td>\n",
       "      <td>170058.0</td>\n",
       "      <td>144254.0</td>\n",
       "    </tr>\n",
       "    <tr>\n",
       "      <th>11064</th>\n",
       "      <td>X/fulltext/xapian</td>\n",
       "      <td>7757824.0</td>\n",
       "      <td>7897088.0</td>\n",
       "      <td>139264.0</td>\n",
       "    </tr>\n",
       "    <tr>\n",
       "      <th>9740</th>\n",
       "      <td>I/Hovenia_dulcis.jpg.webp</td>\n",
       "      <td>26482.0</td>\n",
       "      <td>157642.0</td>\n",
       "      <td>131160.0</td>\n",
       "    </tr>\n",
       "    <tr>\n",
       "      <th>8677</th>\n",
       "      <td>I/Carmen_-_illustration_by_Luc_for_Journal_Amu...</td>\n",
       "      <td>18916.0</td>\n",
       "      <td>144298.0</td>\n",
       "      <td>125382.0</td>\n",
       "    </tr>\n",
       "    <tr>\n",
       "      <th>10607</th>\n",
       "      <td>I/Tsebelda_iconostasis.jpg.webp</td>\n",
       "      <td>18596.0</td>\n",
       "      <td>142832.0</td>\n",
       "      <td>124236.0</td>\n",
       "    </tr>\n",
       "    <tr>\n",
       "      <th>8415</th>\n",
       "      <td>I/Ambara_church_ruins_in_Abkhazia%2C_1899.jpg....</td>\n",
       "      <td>10896.0</td>\n",
       "      <td>119938.0</td>\n",
       "      <td>109042.0</td>\n",
       "    </tr>\n",
       "    <tr>\n",
       "      <th>8706</th>\n",
       "      <td>I/Christos_Acheiropoietos.jpg.webp</td>\n",
       "      <td>6150.0</td>\n",
       "      <td>111004.0</td>\n",
       "      <td>104854.0</td>\n",
       "    </tr>\n",
       "  </tbody>\n",
       "</table>\n",
       "</div>"
      ],
      "text/plain": [
       "                                                    path       june  \\\n",
       "9947                  I/Lashkendar_temple_ruins.JPG.webp    10952.0   \n",
       "10321   I/RR5109-0021R_100-летие_Российского_футбола.gif    21630.0   \n",
       "10978                           I/Большой_театр_1883.gif    19983.0   \n",
       "10227                           I/Paliurus_fg01.jpg.webp    25804.0   \n",
       "11064                                  X/fulltext/xapian  7757824.0   \n",
       "9740                           I/Hovenia_dulcis.jpg.webp    26482.0   \n",
       "8677   I/Carmen_-_illustration_by_Luc_for_Journal_Amu...    18916.0   \n",
       "10607                    I/Tsebelda_iconostasis.jpg.webp    18596.0   \n",
       "8415   I/Ambara_church_ruins_in_Abkhazia%2C_1899.jpg....    10896.0   \n",
       "8706                  I/Christos_Acheiropoietos.jpg.webp     6150.0   \n",
       "\n",
       "            july      diff  \n",
       "9947    170850.0  159898.0  \n",
       "10321   179841.0  158211.0  \n",
       "10978   174006.0  154023.0  \n",
       "10227   170058.0  144254.0  \n",
       "11064  7897088.0  139264.0  \n",
       "9740    157642.0  131160.0  \n",
       "8677    144298.0  125382.0  \n",
       "10607   142832.0  124236.0  \n",
       "8415    119938.0  109042.0  \n",
       "8706    111004.0  104854.0  "
      ]
     },
     "execution_count": 8,
     "metadata": {},
     "output_type": "execute_result"
    }
   ],
   "source": [
    "df.nlargest(10, 'diff')"
   ]
  },
  {
   "cell_type": "code",
   "execution_count": 9,
   "metadata": {},
   "outputs": [
    {
     "data": {
      "text/html": [
       "<div>\n",
       "<style scoped>\n",
       "    .dataframe tbody tr th:only-of-type {\n",
       "        vertical-align: middle;\n",
       "    }\n",
       "\n",
       "    .dataframe tbody tr th {\n",
       "        vertical-align: top;\n",
       "    }\n",
       "\n",
       "    .dataframe thead th {\n",
       "        text-align: right;\n",
       "    }\n",
       "</style>\n",
       "<table border=\"1\" class=\"dataframe\">\n",
       "  <thead>\n",
       "    <tr style=\"text-align: right;\">\n",
       "      <th></th>\n",
       "      <th>path</th>\n",
       "      <th>june</th>\n",
       "      <th>july</th>\n",
       "      <th>diff</th>\n",
       "    </tr>\n",
       "  </thead>\n",
       "  <tbody>\n",
       "    <tr>\n",
       "      <th>3038</th>\n",
       "      <td>A/Анатуралтә_ахыҧхьаӡара</td>\n",
       "      <td>72555.0</td>\n",
       "      <td>27703.0</td>\n",
       "      <td>-44852.0</td>\n",
       "    </tr>\n",
       "    <tr>\n",
       "      <th>3039</th>\n",
       "      <td>A/Анатуралтә_ахыԥхьаӡара</td>\n",
       "      <td>72555.0</td>\n",
       "      <td>27703.0</td>\n",
       "      <td>-44852.0</td>\n",
       "    </tr>\n",
       "    <tr>\n",
       "      <th>4345</th>\n",
       "      <td>A/Иԥсабаратәу_ахыԥхьаӡара</td>\n",
       "      <td>72555.0</td>\n",
       "      <td>27703.0</td>\n",
       "      <td>-44852.0</td>\n",
       "    </tr>\n",
       "    <tr>\n",
       "      <th>3627</th>\n",
       "      <td>A/Белоруссиа_ақалақьқәа</td>\n",
       "      <td>209414.0</td>\n",
       "      <td>175008.0</td>\n",
       "      <td>-34406.0</td>\n",
       "    </tr>\n",
       "    <tr>\n",
       "      <th>3628</th>\n",
       "      <td>A/Белоруссиа_ақалақьқәа_рсиа</td>\n",
       "      <td>209414.0</td>\n",
       "      <td>175008.0</td>\n",
       "      <td>-34406.0</td>\n",
       "    </tr>\n",
       "    <tr>\n",
       "      <th>3630</th>\n",
       "      <td>A/Белорустәыла_ақалақьқәа</td>\n",
       "      <td>209414.0</td>\n",
       "      <td>175008.0</td>\n",
       "      <td>-34406.0</td>\n",
       "    </tr>\n",
       "    <tr>\n",
       "      <th>2904</th>\n",
       "      <td>A/Акириллица</td>\n",
       "      <td>34094.0</td>\n",
       "      <td>4251.0</td>\n",
       "      <td>-29843.0</td>\n",
       "    </tr>\n",
       "    <tr>\n",
       "      <th>4402</th>\n",
       "      <td>A/Кириллица</td>\n",
       "      <td>34094.0</td>\n",
       "      <td>4251.0</td>\n",
       "      <td>-29843.0</td>\n",
       "    </tr>\n",
       "    <tr>\n",
       "      <th>3860</th>\n",
       "      <td>A/Гъь</td>\n",
       "      <td>29269.0</td>\n",
       "      <td>2739.0</td>\n",
       "      <td>-26530.0</td>\n",
       "    </tr>\n",
       "    <tr>\n",
       "      <th>5808</th>\n",
       "      <td>A/Ѹ</td>\n",
       "      <td>29191.0</td>\n",
       "      <td>2677.0</td>\n",
       "      <td>-26514.0</td>\n",
       "    </tr>\n",
       "  </tbody>\n",
       "</table>\n",
       "</div>"
      ],
      "text/plain": [
       "                              path      june      july     diff\n",
       "3038      A/Анатуралтә_ахыҧхьаӡара   72555.0   27703.0 -44852.0\n",
       "3039      A/Анатуралтә_ахыԥхьаӡара   72555.0   27703.0 -44852.0\n",
       "4345     A/Иԥсабаратәу_ахыԥхьаӡара   72555.0   27703.0 -44852.0\n",
       "3627       A/Белоруссиа_ақалақьқәа  209414.0  175008.0 -34406.0\n",
       "3628  A/Белоруссиа_ақалақьқәа_рсиа  209414.0  175008.0 -34406.0\n",
       "3630     A/Белорустәыла_ақалақьқәа  209414.0  175008.0 -34406.0\n",
       "2904                  A/Акириллица   34094.0    4251.0 -29843.0\n",
       "4402                   A/Кириллица   34094.0    4251.0 -29843.0\n",
       "3860                         A/Гъь   29269.0    2739.0 -26530.0\n",
       "5808                           A/Ѹ   29191.0    2677.0 -26514.0"
      ]
     },
     "execution_count": 9,
     "metadata": {},
     "output_type": "execute_result"
    }
   ],
   "source": [
    "df.nsmallest(10, 'diff')"
   ]
  },
  {
   "cell_type": "code",
   "execution_count": 41,
   "metadata": {},
   "outputs": [
    {
     "name": "stdout",
     "output_type": "stream",
     "text": [
      "Num webps 2392\n"
     ]
    },
    {
     "data": {
      "text/plain": [
       "count      2392.000000\n",
       "mean       2969.474080\n",
       "std       12679.723609\n",
       "min      -20758.000000\n",
       "25%         -38.000000\n",
       "50%           0.000000\n",
       "75%           8.000000\n",
       "max      159898.000000\n",
       "Name: diff, dtype: float64"
      ]
     },
     "execution_count": 41,
     "metadata": {},
     "output_type": "execute_result"
    }
   ],
   "source": [
    "webps = df[df['path'].str.endswith('.webp') & (df['june'] > 0) & (df['july'] > 0)]\n",
    "print('Num webps', webps.shape[0])\n",
    "webps['diff'].describe()"
   ]
  },
  {
   "cell_type": "code",
   "execution_count": 40,
   "metadata": {},
   "outputs": [
    {
     "data": {
      "text/plain": [
       "count       681.000000\n",
       "mean      10661.333333\n",
       "std       21949.767232\n",
       "min           2.000000\n",
       "25%          24.000000\n",
       "50%          94.000000\n",
       "75%       13028.000000\n",
       "max      159898.000000\n",
       "Name: diff, dtype: float64"
      ]
     },
     "execution_count": 40,
     "metadata": {},
     "output_type": "execute_result"
    }
   ],
   "source": [
    "webps['diff'][webps['diff'] > 0].describe()"
   ]
  },
  {
   "cell_type": "code",
   "execution_count": 44,
   "metadata": {},
   "outputs": [
    {
     "data": {
      "text/plain": [
       "count      868.000000\n",
       "mean      -181.320276\n",
       "std        723.304779\n",
       "min     -20758.000000\n",
       "25%       -242.000000\n",
       "50%        -86.000000\n",
       "75%        -28.000000\n",
       "max         -2.000000\n",
       "Name: diff, dtype: float64"
      ]
     },
     "execution_count": 44,
     "metadata": {},
     "output_type": "execute_result"
    }
   ],
   "source": [
    "webps['diff'][webps['diff'] < 0].describe()"
   ]
  },
  {
   "cell_type": "code",
   "execution_count": 17,
   "metadata": {},
   "outputs": [
    {
     "data": {
      "text/plain": [
       "count       242.000000\n",
       "mean      29735.652893\n",
       "std       28186.760915\n",
       "min      -20758.000000\n",
       "25%       10289.500000\n",
       "50%       21394.000000\n",
       "75%       38107.000000\n",
       "max      159898.000000\n",
       "Name: diff, dtype: float64"
      ]
     },
     "execution_count": 17,
     "metadata": {},
     "output_type": "execute_result"
    }
   ],
   "source": [
    "large_diff_webps = webps[webps['diff'].abs() > 1000]\n",
    "large_diff_webps['diff'].describe()"
   ]
  },
  {
   "cell_type": "code",
   "execution_count": 23,
   "metadata": {},
   "outputs": [
    {
     "data": {
      "text/plain": [
       "np.float64(6936.505859375)"
      ]
     },
     "execution_count": 23,
     "metadata": {},
     "output_type": "execute_result"
    }
   ],
   "source": [
    "webps['diff'].sum() / 1024"
   ]
  },
  {
   "cell_type": "markdown",
   "metadata": {},
   "source": [
    "The total difference attributed to webps in the ZIMs is ~6.77 MB or 6936 KB, which is about two-thirds of the discrepancy between the ZIMs. This isn't the whole story though, as we'll see from looking at the non-webp items."
   ]
  },
  {
   "cell_type": "code",
   "execution_count": null,
   "metadata": {},
   "outputs": [
    {
     "name": "stdout",
     "output_type": "stream",
     "text": [
      "7923 2392 10315\n"
     ]
    }
   ],
   "source": [
    "print(non_webps.shape[0], webps.shape[0], in_both.shape[0])\n",
    "assert non_webps.shape[0] + webps.shape[0] == in_both.shape[0]"
   ]
  },
  {
   "cell_type": "code",
   "execution_count": 37,
   "metadata": {},
   "outputs": [
    {
     "data": {
      "text/plain": [
       "count      7923.000000\n",
       "mean      -2977.398082\n",
       "std        8643.249370\n",
       "min      -44852.000000\n",
       "25%        -487.500000\n",
       "50%         773.000000\n",
       "75%        1084.000000\n",
       "max      158211.000000\n",
       "Name: diff, dtype: float64"
      ]
     },
     "execution_count": 37,
     "metadata": {},
     "output_type": "execute_result"
    }
   ],
   "source": [
    "non_webps = df[(~df['path'].str.endswith('.webp')) & (df['june'] > 0) & (df['july'] > 0)]\n",
    "non_webps['diff'].describe()"
   ]
  },
  {
   "cell_type": "code",
   "execution_count": 58,
   "metadata": {},
   "outputs": [
    {
     "data": {
      "text/plain": [
       "np.float64(-23037.0361328125)"
      ]
     },
     "execution_count": 58,
     "metadata": {},
     "output_type": "execute_result"
    }
   ],
   "source": [
    "non_webps['diff'].sum() / 1024"
   ]
  },
  {
   "cell_type": "markdown",
   "metadata": {},
   "source": [
    "So the difference attributable to non-webp files is -23 MB. This can potentially be explained by the fact that the text in ZIM files is compressed on disk, while webps are already compressed before they are stored in the ZIM.\n",
    "\n",
    "**Overall, there's no clear explanation for why the file sizes are so different, except possibly for some discrepancy in image processing (which is what our initial guess was).**"
   ]
  }
 ],
 "metadata": {
  "kernelspec": {
   "display_name": "zim-investigation-9OFlqGWE",
   "language": "python",
   "name": "python3"
  },
  "language_info": {
   "codemirror_mode": {
    "name": "ipython",
    "version": 3
   },
   "file_extension": ".py",
   "mimetype": "text/x-python",
   "name": "python",
   "nbconvert_exporter": "python",
   "pygments_lexer": "ipython3",
   "version": "3.12.0"
  }
 },
 "nbformat": 4,
 "nbformat_minor": 2
}
